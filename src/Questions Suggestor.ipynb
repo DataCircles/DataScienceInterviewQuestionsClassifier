{
 "cells": [
  {
   "cell_type": "markdown",
   "metadata": {},
   "source": [
    "# Question Suggestor"
   ]
  },
  {
   "cell_type": "code",
   "execution_count": 1,
   "metadata": {},
   "outputs": [],
   "source": [
    "from basetagger import BaseTagger"
   ]
  },
  {
   "cell_type": "code",
   "execution_count": 2,
   "metadata": {},
   "outputs": [
    {
     "name": "stdout",
     "output_type": "stream",
     "text": [
      "statistics\n",
      "regression\n",
      "probability\n",
      "hypothesis testing\n",
      "machine learning\n",
      "neural networks\n",
      "knowledge\n",
      "sql\n",
      "programming\n",
      "algorithms\n",
      "experience\n",
      "metrics\n",
      "modeling\n",
      "data\n",
      "clustering\n",
      "analysis\n",
      "situational\n",
      "general\n",
      "cases\n",
      "Empty DataFrame\n",
      "Columns: [question, answer, source, type, track, tags, i_statistics, i_regression, i_probability, i_hypothesis testing, i_machine learning, i_neural networks, i_knowledge, i_sql, i_programming, i_algorithms, i_experience, i_metrics, i_modeling, i_data, i_clustering, i_analysis, i_situational, i_general, i_cases, numtags]\n",
      "Index: []\n",
      "\n",
      "[0 rows x 26 columns]\n",
      "Tags per question\n",
      "1    211\n",
      "2    111\n",
      "3     79\n",
      "4     59\n",
      "6     18\n",
      "5     17\n",
      "7      7\n",
      "8      5\n",
      "9      1\n",
      "Name: numtags, dtype: int64\n",
      "Questions without tags\n",
      "0\n"
     ]
    }
   ],
   "source": [
    "t = BaseTagger()"
   ]
  },
  {
   "cell_type": "code",
   "execution_count": 3,
   "metadata": {},
   "outputs": [
    {
     "name": "stdout",
     "output_type": "stream",
     "text": [
      "Number of tags in topics: 60\n",
      "Question: What is the functional form for a maximum likelihood estimation of a logit regression model?\n",
      "Question: What are the assumptions required for linear regression?\n",
      "Question: What is linear regression? What do the terms p-value, coefficient, and r-squared value mean? What is the significance of each of these components?\n",
      "Question: What are the assumptions required for linear regression?\n",
      "Question: How would you create a logistic regression model?\n",
      "Question: Explain the difference between L1 and L2 regularization methods.\n",
      "Question: How would you validate a model you created to generate a predictive model of a quantitative outcome variable using multiple regression?\n",
      "Question: Which machine learning model (classification vs. regression, for example) to use given a particular problem.\n",
      "Question: Linear/polynomial regression\n",
      "Question: Can you perform logistic regression with Excel? (yes) How? (use linest on log-transformed data)? Would the result be good? (Excel has numerical issues, but it's very interactive)\n",
      "Question: What are the drawbacks of general linear model? Are you familiar with alternatives (Lasso, ridge regression, boosted trees)?\n",
      "Question: Compare logistic regression w. decision trees, neural networks. How have these technologies been vastly improved over the last 15 years?\n",
      "Question: Do you know / used data reduction techniques other than PCA? What do you think of step-wise regression? What kind of step-wise techniques are you familiar with? When is full data better than reduced data or sample?\n",
      "Question: You are working on a time series data set. You manager has asked you to build a high accuracy model. You start with the decision tree algorithm, since you know it works fairly well on all kinds of data. Later, you tried a time series regression model and got higher accuracy than decision tree model. Can this happen? Why?\n",
      "Question: You came to know that your model is suffering from low bias and high variance. Which algorithm should you use to tackle it? Why?\n",
      "Question:  How is kNN different from kmeans clustering?\n",
      "Question: You have built a multiple regression model. Your model R² isn’t as good as you wanted. For improvement, your remove the intercept term, your model R² becomes 0.8 from 0.3. Is it possible? How?\n",
      "Question: After analyzing the model, your manager has informed that your regression model is suffering from multicollinearity. How would you check if he’s true? Without losing any information, can you still build a better model?\n",
      "Question: When is Ridge regression favorable over Lasso regression?\n",
      "Question: While working on a data set, how do you select important variables? Explain your methods.\n",
      "Question: You’ve got a data set to work having p (no. of variable) > n (no. of observation). Why is OLS as bad option to work with? Which techniques would be best to use? Why?\n",
      "Question: You have been asked to evaluate a regression model based on R², adjusted R² and tolerance. What will be your criteria?\n",
      "Question:  I know that a linear regression model is generally evaluated using Adjusted R² or F value. How would you evaluate a logistic regression model?\n",
      "Question: Considering the long list of machine learning algorithm, given a data set, how do you decide which one to use?\n",
      "Question: OLS is to linear regression. Maximum likelihood is to logistic regression. Explain the statement.\n",
      "Question: How would you validate a model you created to generate a predictive model of a quantitative outcome variable using multiple regression.\n",
      "Question: What is bias, variance trade off ?\n",
      "Question: Explain SVM machine learning algorithm in detail.\n",
      "Question: Explain Decision Tree algorithm in detail.\n",
      "Question: What is Random Forest? How does it work ?\n",
      "Question: What is logistic regression? Or State an example when you have used logistic regression recently.\n",
      "Question: What is a Box Cox Transformation?\n",
      "Question: What is deep learning?\n",
      "Question: What is the difference between Regression and classification ML techniques.\n",
      "Question: What is the Supervised Learning?\n",
      "Question: What is logistic regression? State an example when you have used logistic regression recently.\n",
      "Question: What is Linear Regression?\n",
      "Question: How would you explain an A/B test to an engineer with no statistics background? A linear regression?\n",
      "Question: What is R2? What are some other metrics that could be better than R2 and why?\n",
      "Question: You have several variables that are positively correlated with your response, and you think combining all of the variables could give you a good prediction of your response. However, you see that in the multiple linear regression, one of the weights on the predictors is negative. What could be the issue?\n",
      "Question: Now you have a feasible amount of predictors, but you’re fairly sure that you don’t need all of them. How would you perform feature selection on the dataset?\n",
      "Question: Your linear regression didn’t run and communicates that there are an infinite number of best estimates for the regression coefficients. What could be wrong?\n",
      "Question: You run your regression on different subsets of your data, and find that in each subset, the beta value for a certain variable varies wildly. What could be the issue here?\n",
      "Question: What is the main idea behind ensemble learning? If I had many different models that predicted the same response variable, what might I want to do to incorporate all of the models? Would you expect this to perform better than an individual model or worse?\n",
      "Question: (Given a Dataset) Analyze this dataset and give me a model that can predict this response variable.\n",
      "Question: What are some ways I can make my model more robust to outliers?\n",
      "Question: What are various ways to predict a binary response variable? Can you compare two of them and tell me when one would be more appropriate? What’s the difference between these? (SVM, Logistic Regression, Naive Bayes, Decision Tree, etc.)\n",
      "Question: What is regularization and where might it be helpful? What is an example of using regularization in a model?\n",
      "Question: Why might it be preferable to include fewer predictors over many?\n",
      "Question: Given training data on tweets and their retweets, how would you predict the number of retweets of a given tweet after 7 days after only observing 2 days worth of data?\n",
      "Question: Given a database of all previous alumni donations to your university, how would you predict which recent alumni are most likely to donate?\n",
      "Question: You want to run a regression to predict the probability of a flight delay, but there are flights with delays of up to 12 hours that are really messing up your model. How can you address this?\n",
      "Question: Let’s say you have a very tall father. On average, what would you expect the height of his son to be? Taller, equal, or shorter? What if you had a very short father?\n",
      "Question: What is regularization? Explain L1 and L2 regularization.\n",
      "Question: What is Linear Regression?\n",
      "Question: How can you assess a good logistic model?\n",
      "Question: What is Machine Learning?\n",
      "Question: What is logistic regression? Or State an example when you have used logistic regression recently.\n",
      "Question: What are the assumptions of linear regression?\n",
      "Question: What is stationary signal?\n"
     ]
    }
   ],
   "source": [
    "t.get_questions('regression')"
   ]
  },
  {
   "cell_type": "code",
   "execution_count": null,
   "metadata": {},
   "outputs": [],
   "source": []
  }
 ],
 "metadata": {
  "kernelspec": {
   "display_name": "Python 3",
   "language": "python",
   "name": "python3"
  },
  "language_info": {
   "codemirror_mode": {
    "name": "ipython",
    "version": 3
   },
   "file_extension": ".py",
   "mimetype": "text/x-python",
   "name": "python",
   "nbconvert_exporter": "python",
   "pygments_lexer": "ipython3",
   "version": "3.6.5"
  }
 },
 "nbformat": 4,
 "nbformat_minor": 2
}
